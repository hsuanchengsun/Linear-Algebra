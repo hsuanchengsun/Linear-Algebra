{
 "cells": [
  {
   "cell_type": "code",
   "execution_count": 1,
   "metadata": {
    "collapsed": true
   },
   "outputs": [],
   "source": [
    "from sympy import *\n",
    "init_printing(use_unicode=True)"
   ]
  },
  {
   "cell_type": "code",
   "execution_count": null,
   "metadata": {
    "collapsed": true
   },
   "outputs": [],
   "source": [
    "#example source:https://www.baseball-reference.com/players/b/bettsmo01.shtml"
   ]
  },
  {
   "cell_type": "code",
   "execution_count": 2,
   "metadata": {
    "collapsed": true
   },
   "outputs": [],
   "source": [
    "#以美國職棒大聯盟選手Mookie Betts為例，以下是他今年以及去年的個人成績，分別是（出賽場數/打席/打數/得分/安打/全壘打/打點/盜壘）等成績，\n",
    "#我們想要知道兩年總成績，只要分別將兩年成績設為矩陣相加"
   ]
  },
  {
   "cell_type": "code",
   "execution_count": 3,
   "metadata": {
    "collapsed": true
   },
   "outputs": [],
   "source": [
    "record2017 = Matrix([[153,712,628,101,166,24,102,26]])\n",
    "record2016 = Matrix([[158,730,672,122,214,31,113,26]])"
   ]
  },
  {
   "cell_type": "code",
   "execution_count": 4,
   "metadata": {
    "collapsed": false
   },
   "outputs": [
    {
     "data": {
      "text/latex": [
       "$$\\left[\\begin{matrix}311 & 1442 & 1300 & 223 & 380 & 55 & 215 & 52\\end{matrix}\\right]$$"
      ],
      "text/plain": [
       "[311  1442  1300  223  380  55  215  52]"
      ]
     },
     "execution_count": 4,
     "metadata": {},
     "output_type": "execute_result"
    }
   ],
   "source": [
    "recordtwoyears = record2016 + record2017\n",
    "recordtwoyears"
   ]
  },
  {
   "cell_type": "code",
   "execution_count": 5,
   "metadata": {
    "collapsed": true
   },
   "outputs": [],
   "source": [
    "#接著我們想要知道他總共得的壘打數，算法是（安打*1＋二壘打*2＋三壘打*3＋全壘打*4）\n",
    "#於是將今年成績設定成一個矩陣，再將倍數設成另一個，將兩者相乘"
   ]
  },
  {
   "cell_type": "code",
   "execution_count": 14,
   "metadata": {
    "collapsed": false
   },
   "outputs": [
    {
     "data": {
      "text/latex": [
       "$$\\left[\\begin{matrix}166 & 46 & 2 & 24\\end{matrix}\\right]$$"
      ],
      "text/plain": [
       "[166  46  2  24]"
      ]
     },
     "execution_count": 14,
     "metadata": {},
     "output_type": "execute_result"
    }
   ],
   "source": [
    "singles2017 = Matrix([[166,46,2,24]])\n",
    "singles2017"
   ]
  },
  {
   "cell_type": "code",
   "execution_count": 15,
   "metadata": {
    "collapsed": false
   },
   "outputs": [
    {
     "data": {
      "text/latex": [
       "$$\\left[\\begin{matrix}1\\\\2\\\\3\\\\4\\end{matrix}\\right]$$"
      ],
      "text/plain": [
       "⎡1⎤\n",
       "⎢ ⎥\n",
       "⎢2⎥\n",
       "⎢ ⎥\n",
       "⎢3⎥\n",
       "⎢ ⎥\n",
       "⎣4⎦"
      ]
     },
     "execution_count": 15,
     "metadata": {},
     "output_type": "execute_result"
    }
   ],
   "source": [
    "bases = Matrix([1,2,3,4])\n",
    "bases"
   ]
  },
  {
   "cell_type": "code",
   "execution_count": 16,
   "metadata": {
    "collapsed": false
   },
   "outputs": [
    {
     "data": {
      "text/latex": [
       "$$\\left[\\begin{matrix}360\\end{matrix}\\right]$$"
      ],
      "text/plain": [
       "[360]"
      ]
     },
     "execution_count": 16,
     "metadata": {},
     "output_type": "execute_result"
    }
   ],
   "source": [
    "totalbases2017 = singles2017*bases\n",
    "totalbases2017"
   ]
  },
  {
   "cell_type": "code",
   "execution_count": 17,
   "metadata": {
    "collapsed": true
   },
   "outputs": [],
   "source": [
    "#最後我們想計算今年美國聯盟東區個隊伍的季賽勝率，分別是（紅襪/洋基/藍鳥/光芒/金鶯）\n",
    "#將他們今年的勝場設成一個矩陣，因為一年總共162場比賽，於是乘上(1/162)即可知道勝率"
   ]
  },
  {
   "cell_type": "code",
   "execution_count": null,
   "metadata": {
    "collapsed": true
   },
   "outputs": [],
   "source": [
    "#Winning percentage source:http://mlb.mlb.com/mlb/standings/index.jsp#20171001"
   ]
  },
  {
   "cell_type": "code",
   "execution_count": 20,
   "metadata": {
    "collapsed": false
   },
   "outputs": [
    {
     "data": {
      "text/latex": [
       "$$\\left[\\begin{matrix}0.574074074074074\\\\0.561728395061728\\\\0.493827160493827\\\\0.469135802469136\\\\0.462962962962963\\end{matrix}\\right]$$"
      ],
      "text/plain": [
       "⎡0.574074074074074⎤\n",
       "⎢                 ⎥\n",
       "⎢0.561728395061728⎥\n",
       "⎢                 ⎥\n",
       "⎢0.493827160493827⎥\n",
       "⎢                 ⎥\n",
       "⎢0.469135802469136⎥\n",
       "⎢                 ⎥\n",
       "⎣0.462962962962963⎦"
      ]
     },
     "execution_count": 20,
     "metadata": {},
     "output_type": "execute_result"
    }
   ],
   "source": [
    "ALEast = Matrix([[93],[91],[80],[76],[75]])\n",
    "winspercentages = ALEast * (1/162)\n",
    "winspercentages"
   ]
  },
  {
   "cell_type": "code",
   "execution_count": null,
   "metadata": {
    "collapsed": true
   },
   "outputs": [],
   "source": []
  }
 ],
 "metadata": {
  "kernelspec": {
   "display_name": "Python 3",
   "language": "python",
   "name": "python3"
  },
  "language_info": {
   "codemirror_mode": {
    "name": "ipython",
    "version": 3
   },
   "file_extension": ".py",
   "mimetype": "text/x-python",
   "name": "python",
   "nbconvert_exporter": "python",
   "pygments_lexer": "ipython3",
   "version": "3.6.0"
  }
 },
 "nbformat": 4,
 "nbformat_minor": 2
}
