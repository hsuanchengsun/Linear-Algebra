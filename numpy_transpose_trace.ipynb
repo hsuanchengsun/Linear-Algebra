{
 "cells": [
  {
   "cell_type": "code",
   "execution_count": 41,
   "metadata": {
    "collapsed": false
   },
   "outputs": [],
   "source": [
    "import numpy as np"
   ]
  },
  {
   "cell_type": "code",
   "execution_count": 44,
   "metadata": {
    "collapsed": false
   },
   "outputs": [
    {
     "name": "stdout",
     "output_type": "stream",
     "text": [
      "How many raws do you want?(postive number)5\n",
      "How many columns do you want?(postive number)4\n",
      "Which range do you want?(postive number)100\n"
     ]
    },
    {
     "data": {
      "text/plain": [
       "array([[83, 24, 32, 74],\n",
       "       [75, 28, 15, 92],\n",
       "       [15, 32, 72, 65],\n",
       "       [79, 81, 60, 77],\n",
       "       [33, 11, 59, 82]])"
      ]
     },
     "execution_count": 44,
     "metadata": {},
     "output_type": "execute_result"
    }
   ],
   "source": [
    "I = int(input(\"How many raws do you want?(postive number)\"))\n",
    "J = int(input(\"How many columns do you want?(postive number)\"))\n",
    "K = int(input(\"Which range do you want?(postive number)\"))\n",
    "L = np.random.randint(1,K,int(I*J)).reshape((I,J))\n",
    "L"
   ]
  },
  {
   "cell_type": "code",
   "execution_count": 45,
   "metadata": {
    "collapsed": false
   },
   "outputs": [
    {
     "data": {
      "text/plain": [
       "array([[83, 75, 15, 79, 33],\n",
       "       [24, 28, 32, 81, 11],\n",
       "       [32, 15, 72, 60, 59],\n",
       "       [74, 92, 65, 77, 82]])"
      ]
     },
     "execution_count": 45,
     "metadata": {},
     "output_type": "execute_result"
    }
   ],
   "source": [
    "transposeL = np.transpose(L)\n",
    "transposeL"
   ]
  },
  {
   "cell_type": "code",
   "execution_count": 46,
   "metadata": {
    "collapsed": false
   },
   "outputs": [
    {
     "name": "stdout",
     "output_type": "stream",
     "text": [
      "What size of square matrix do you want?(postive number)9\n",
      "Which range do you want?(postive number)10\n"
     ]
    },
    {
     "data": {
      "text/plain": [
       "array([[8, 9, 1, 1, 7, 7, 2, 4, 5],\n",
       "       [9, 5, 9, 2, 3, 9, 1, 8, 4],\n",
       "       [6, 9, 8, 9, 4, 7, 6, 5, 6],\n",
       "       [1, 4, 3, 1, 3, 4, 4, 3, 3],\n",
       "       [8, 2, 8, 7, 3, 9, 9, 6, 2],\n",
       "       [8, 8, 1, 1, 5, 1, 8, 2, 3],\n",
       "       [4, 1, 4, 3, 6, 4, 3, 1, 7],\n",
       "       [5, 6, 7, 1, 4, 7, 2, 6, 4],\n",
       "       [4, 5, 7, 2, 9, 4, 9, 9, 7]])"
      ]
     },
     "execution_count": 46,
     "metadata": {},
     "output_type": "execute_result"
    }
   ],
   "source": [
    "M = int(input(\"What size of square matrix do you want?(postive number)\"))\n",
    "N = int(input(\"Which range do you want?(postive number)\"))\n",
    "O = np.random.randint(1,N,M**2).reshape((M,M))\n",
    "O"
   ]
  },
  {
   "cell_type": "code",
   "execution_count": 47,
   "metadata": {
    "collapsed": false
   },
   "outputs": [
    {
     "data": {
      "text/plain": [
       "42"
      ]
     },
     "execution_count": 47,
     "metadata": {},
     "output_type": "execute_result"
    }
   ],
   "source": [
    "traceO = np.trace(O)\n",
    "traceO"
   ]
  },
  {
   "cell_type": "code",
   "execution_count": null,
   "metadata": {
    "collapsed": true
   },
   "outputs": [],
   "source": []
  }
 ],
 "metadata": {
  "kernelspec": {
   "display_name": "Python 3",
   "language": "python",
   "name": "python3"
  },
  "language_info": {
   "codemirror_mode": {
    "name": "ipython",
    "version": 3
   },
   "file_extension": ".py",
   "mimetype": "text/x-python",
   "name": "python",
   "nbconvert_exporter": "python",
   "pygments_lexer": "ipython3",
   "version": "3.6.0"
  }
 },
 "nbformat": 4,
 "nbformat_minor": 2
}
