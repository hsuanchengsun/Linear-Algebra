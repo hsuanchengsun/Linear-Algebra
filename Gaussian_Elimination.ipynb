{
 "cells": [
  {
   "cell_type": "code",
   "execution_count": 162,
   "metadata": {
    "collapsed": false
   },
   "outputs": [],
   "source": [
    "import numpy as np\n",
    "from scipy.linalg import lu\n",
    "\n",
    "a = np.array([[2.,4.,4.,4.],[1.,2.,3.,3.],[1.,2.,2.,2.],[1.,4.,3.,4.]])\n",
    "p, l, u = lu(a)"
   ]
  },
  {
   "cell_type": "code",
   "execution_count": 163,
   "metadata": {
    "collapsed": false
   },
   "outputs": [
    {
     "data": {
      "text/plain": [
       "array([[ 1.,  0.,  0.,  0.],\n",
       "       [ 0.,  0.,  1.,  0.],\n",
       "       [ 0.,  0.,  0.,  1.],\n",
       "       [ 0.,  1.,  0.,  0.]])"
      ]
     },
     "execution_count": 163,
     "metadata": {},
     "output_type": "execute_result"
    }
   ],
   "source": [
    "p"
   ]
  },
  {
   "cell_type": "code",
   "execution_count": 140,
   "metadata": {
    "collapsed": false
   },
   "outputs": [
    {
     "name": "stdout",
     "output_type": "stream",
     "text": [
      "[[ 2.  4.  4.  4.]\n",
      " [ 1.  2.  3.  3.]\n",
      " [ 1.  2.  2.  2.]\n",
      " [ 1.  4.  3.  4.]]\n",
      "---分隔線---\n",
      "[[ 2.  4.  4.  4.]\n",
      " [ 0.  0.  1.  1.]\n",
      " [ 0.  0.  0.  0.]\n",
      " [ 0.  2.  1.  2.]]\n"
     ]
    }
   ],
   "source": [
    "b = np.dot(p , u)\n",
    "print(a)\n",
    "print(\"---分隔線---\")\n",
    "print(b)"
   ]
  },
  {
   "cell_type": "code",
   "execution_count": 126,
   "metadata": {
    "collapsed": false
   },
   "outputs": [
    {
     "name": "stdout",
     "output_type": "stream",
     "text": [
      "[ 2.  4.  4.  4.] Linear Independent\n",
      "[ 1.  2.  3.  3.] Linear Independent\n",
      "[ 1.  2.  2.  2.] Linear Dependent\n",
      "[ 1.  4.  3.  4.] Linear Independent\n"
     ]
    }
   ],
   "source": [
    "print(a[0], \"Linear Independent\")\n",
    "print(a[1], \"Linear Independent\")\n",
    "print(a[2], \"Linear Dependent\")\n",
    "print(a[3], \"Linear Independent\")"
   ]
  },
  {
   "cell_type": "code",
   "execution_count": 385,
   "metadata": {
    "collapsed": true
   },
   "outputs": [],
   "source": [
    "def swap_rows(arr, frm, to):#換array中列的公式\n",
    "    arr[[frm, to],:] = arr[[to, frm],:]"
   ]
  },
  {
   "cell_type": "code",
   "execution_count": 386,
   "metadata": {
    "collapsed": false
   },
   "outputs": [
    {
     "data": {
      "text/plain": [
       "array([[ 1. ,  1.5, -2. ],\n",
       "       [ 2. ,  1. , -1. ],\n",
       "       [ 3. , -1. ,  2. ],\n",
       "       [ 2. ,  3. , -4. ],\n",
       "       [ 1. ,  1. ,  1. ]])"
      ]
     },
     "execution_count": 386,
     "metadata": {},
     "output_type": "execute_result"
    }
   ],
   "source": [
    "C = np.array([[1.0,1.5,-2.0],[2.0,1.0,-1],[3.0,-1.0,2.0],[2,3,-4],[1,1,1]])\n",
    "C"
   ]
  },
  {
   "cell_type": "code",
   "execution_count": 387,
   "metadata": {
    "collapsed": true
   },
   "outputs": [],
   "source": [
    "def finddeadwood(M): # 找冗員公式\n",
    "    p, l, u = lu(M)\n",
    "    h = np.dot(p,l)\n",
    "    a = np.dot(h,u)#矩陣原來的長相\n",
    "    m = len(M)#矩陣有幾列\n",
    "    n = len(M[0])#矩陣有幾行\n",
    "    for r in range(0,min(n,m)): #做到第幾次   \n",
    "        if(M[r][r]==0): # 發現如果是零的處理方法，就跟下面絕對值最大的那一列換\n",
    "            k = np.argmax(np.absolute(M[r+1:m]),axis=0)[r]#去掉前面後的最大絕對值那一行\n",
    "            g = r+1+k#全部裡面那一行最大的位置\n",
    "            swap_rows(M,r,g)\n",
    "            print(a[g], \"Linear Independent\")\n",
    "        for j in range(r,m-1):#每一列\n",
    "            c = M[j+1][r]/M[r][r]\n",
    "            for i in range(r,n):#每一列中的每一項\n",
    "                M[j+1][i] = M[j+1][i] - c*M[r][i]    \n",
    "        print(a[r], \"Linear Independent\")\n",
    "        print(M)\n",
    "    print(a)"
   ]
  },
  {
   "cell_type": "code",
   "execution_count": 388,
   "metadata": {
    "collapsed": false
   },
   "outputs": [
    {
     "name": "stdout",
     "output_type": "stream",
     "text": [
      "[ 1.   1.5 -2. ] Linear Independent\n",
      "[[ 1.   1.5 -2. ]\n",
      " [ 0.  -2.   3. ]\n",
      " [ 0.  -5.5  8. ]\n",
      " [ 0.   0.   0. ]\n",
      " [ 0.  -0.5  3. ]]\n",
      "[ 2.  1. -1.] Linear Independent\n",
      "[[ 1.    1.5  -2.  ]\n",
      " [ 0.   -2.    3.  ]\n",
      " [ 0.    0.   -0.25]\n",
      " [ 0.    0.    0.  ]\n",
      " [ 0.    0.    2.25]]\n",
      "[ 3. -1.  2.] Linear Independent\n",
      "[[ 1.    1.5  -2.  ]\n",
      " [ 0.   -2.    3.  ]\n",
      " [ 0.    0.   -0.25]\n",
      " [ 0.    0.    0.  ]\n",
      " [ 0.    0.    0.  ]]\n",
      "[[ 1.   1.5 -2. ]\n",
      " [ 2.   1.  -1. ]\n",
      " [ 3.  -1.   2. ]\n",
      " [ 2.   3.  -4. ]\n",
      " [ 1.   1.   1. ]]\n"
     ]
    }
   ],
   "source": [
    "finddeadwood(C)"
   ]
  },
  {
   "cell_type": "code",
   "execution_count": null,
   "metadata": {
    "collapsed": true
   },
   "outputs": [],
   "source": []
  }
 ],
 "metadata": {
  "kernelspec": {
   "display_name": "Python 3",
   "language": "python",
   "name": "python3"
  },
  "language_info": {
   "codemirror_mode": {
    "name": "ipython",
    "version": 3
   },
   "file_extension": ".py",
   "mimetype": "text/x-python",
   "name": "python",
   "nbconvert_exporter": "python",
   "pygments_lexer": "ipython3",
   "version": "3.6.0"
  }
 },
 "nbformat": 4,
 "nbformat_minor": 2
}
