{
 "cells": [
  {
   "cell_type": "code",
   "execution_count": 15,
   "metadata": {
    "collapsed": true
   },
   "outputs": [],
   "source": [
    "from sympy import *\n",
    "init_printing(use_unicode=True)"
   ]
  },
  {
   "cell_type": "code",
   "execution_count": 16,
   "metadata": {
    "collapsed": false
   },
   "outputs": [
    {
     "data": {
      "text/latex": [
       "$$\\left[\\begin{matrix}-1 & 1\\\\2 & 2\\\\4 & 6\\end{matrix}\\right]$$"
      ],
      "text/plain": [
       "⎡-1  1⎤\n",
       "⎢     ⎥\n",
       "⎢2   2⎥\n",
       "⎢     ⎥\n",
       "⎣4   6⎦"
      ]
     },
     "execution_count": 16,
     "metadata": {},
     "output_type": "execute_result"
    }
   ],
   "source": [
    "M = Matrix([[-1,1],[2,2],[4,6]])\n",
    "M"
   ]
  },
  {
   "cell_type": "code",
   "execution_count": 17,
   "metadata": {
    "collapsed": false
   },
   "outputs": [
    {
     "data": {
      "text/latex": [
       "$$\\left[\\begin{matrix}-1 & 2 & 4\\\\1 & 2 & 6\\end{matrix}\\right]$$"
      ],
      "text/plain": [
       "⎡-1  2  4⎤\n",
       "⎢        ⎥\n",
       "⎣1   2  6⎦"
      ]
     },
     "execution_count": 17,
     "metadata": {},
     "output_type": "execute_result"
    }
   ],
   "source": [
    "M.T"
   ]
  },
  {
   "cell_type": "code",
   "execution_count": 30,
   "metadata": {
    "collapsed": false
   },
   "outputs": [
    {
     "data": {
      "text/latex": [
       "$$\\left[\\begin{matrix}-1 & 1 & 4\\\\2 & 2 & 2\\\\4 & 6 & 8\\end{matrix}\\right]$$"
      ],
      "text/plain": [
       "⎡-1  1  4⎤\n",
       "⎢        ⎥\n",
       "⎢2   2  2⎥\n",
       "⎢        ⎥\n",
       "⎣4   6  8⎦"
      ]
     },
     "execution_count": 30,
     "metadata": {},
     "output_type": "execute_result"
    }
   ],
   "source": [
    "K = Matrix([[-1,1,4],[2,2,2],[4,6,8]])\n",
    "K"
   ]
  },
  {
   "cell_type": "code",
   "execution_count": 31,
   "metadata": {
    "collapsed": false
   },
   "outputs": [
    {
     "data": {
      "image/png": "[encoded data removed]",
      "text/latex": [
       "$$9$$"
      ],
      "text/plain": [
       "9"
      ]
     },
     "execution_count": 31,
     "metadata": {},
     "output_type": "execute_result"
    }
   ],
   "source": [
    "K.trace()"
   ]
  },
  {
   "cell_type": "code",
   "execution_count": 21,
   "metadata": {
    "collapsed": false
   },
   "outputs": [
    {
     "data": {
      "text/latex": [
       "$$\\left[\\begin{matrix}- \\frac{\\sqrt{21}}{21} & \\frac{8 \\sqrt{77}}{77}\\\\\\frac{2 \\sqrt{21}}{21} & - \\frac{2 \\sqrt{77}}{77}\\\\\\frac{4 \\sqrt{21}}{21} & \\frac{3 \\sqrt{77}}{77}\\end{matrix}\\right]$$"
      ],
      "text/plain": [
       "⎡-√21    8⋅√77 ⎤\n",
       "⎢─────   ───── ⎥\n",
       "⎢  21      77  ⎥\n",
       "⎢              ⎥\n",
       "⎢2⋅√21  -2⋅√77 ⎥\n",
       "⎢─────  ───────⎥\n",
       "⎢  21      77  ⎥\n",
       "⎢              ⎥\n",
       "⎢4⋅√21   3⋅√77 ⎥\n",
       "⎢─────   ───── ⎥\n",
       "⎣  21      77  ⎦"
      ]
     },
     "execution_count": 21,
     "metadata": {},
     "output_type": "execute_result"
    }
   ],
   "source": [
    "Q"
   ]
  },
  {
   "cell_type": "code",
   "execution_count": 22,
   "metadata": {
    "collapsed": false
   },
   "outputs": [
    {
     "data": {
      "text/latex": [
       "$$\\left[\\begin{matrix}\\sqrt{21} & \\frac{9 \\sqrt{21}}{7}\\\\0 & \\frac{2 \\sqrt{77}}{7}\\end{matrix}\\right]$$"
      ],
      "text/plain": [
       "⎡     9⋅√21⎤\n",
       "⎢√21  ─────⎥\n",
       "⎢       7  ⎥\n",
       "⎢          ⎥\n",
       "⎢     2⋅√77⎥\n",
       "⎢ 0   ─────⎥\n",
       "⎣       7  ⎦"
      ]
     },
     "execution_count": 22,
     "metadata": {},
     "output_type": "execute_result"
    }
   ],
   "source": [
    "R"
   ]
  },
  {
   "cell_type": "code",
   "execution_count": 23,
   "metadata": {
    "collapsed": false
   },
   "outputs": [
    {
     "data": {
      "text/latex": [
       "$$\\left[\\begin{matrix}-1 & 1\\\\2 & 2\\\\4 & 6\\end{matrix}\\right]$$"
      ],
      "text/plain": [
       "⎡-1  1⎤\n",
       "⎢     ⎥\n",
       "⎢2   2⎥\n",
       "⎢     ⎥\n",
       "⎣4   6⎦"
      ]
     },
     "execution_count": 23,
     "metadata": {},
     "output_type": "execute_result"
    }
   ],
   "source": [
    "Q*R"
   ]
  },
  {
   "cell_type": "code",
   "execution_count": 32,
   "metadata": {
    "collapsed": false
   },
   "outputs": [
    {
     "data": {
      "text/latex": [
       "$$\\left[\\begin{matrix}-57 & 63\\\\-85 & 51\\\\-55 & -90\\end{matrix}\\right]$$"
      ],
      "text/plain": [
       "⎡-57  63 ⎤\n",
       "⎢        ⎥\n",
       "⎢-85  51 ⎥\n",
       "⎢        ⎥\n",
       "⎣-55  -90⎦"
      ]
     },
     "execution_count": 32,
     "metadata": {},
     "output_type": "execute_result"
    }
   ],
   "source": [
    "randMatrix(3, c = 2, min = -100, max = 100)"
   ]
  },
  {
   "cell_type": "code",
   "execution_count": 41,
   "metadata": {
    "collapsed": false
   },
   "outputs": [
    {
     "name": "stdout",
     "output_type": "stream",
     "text": [
      "How many raws do you want?3\n",
      "How many columns do you want?2\n",
      "Minium numbers-100\n",
      "Maxium numbers100\n"
     ]
    },
    {
     "data": {
      "text/latex": [
       "$$\\left[\\begin{matrix}-77 & -60\\\\-95 & 79\\\\97 & -75\\end{matrix}\\right]$$"
      ],
      "text/plain": [
       "⎡-77  -60⎤\n",
       "⎢        ⎥\n",
       "⎢-95  79 ⎥\n",
       "⎢        ⎥\n",
       "⎣97   -75⎦"
      ]
     },
     "execution_count": 41,
     "metadata": {},
     "output_type": "execute_result"
    }
   ],
   "source": [
    "A = int(input(\"How many raws do you want?\"))\n",
    "B = int(input(\"How many columns do you want?\"))\n",
    "C = float(input(\"Minium numbers\"))\n",
    "D = float(input(\"Maxium numbers\"))\n",
    "M = randMatrix(A, B, C, D)\n",
    "M"
   ]
  },
  {
   "cell_type": "code",
   "execution_count": 42,
   "metadata": {
    "collapsed": false
   },
   "outputs": [
    {
     "data": {
      "text/latex": [
       "$$\\left[\\begin{matrix}-77 & -95 & 97\\\\-60 & 79 & -75\\end{matrix}\\right]$$"
      ],
      "text/plain": [
       "⎡-77  -95  97 ⎤\n",
       "⎢             ⎥\n",
       "⎣-60  79   -75⎦"
      ]
     },
     "execution_count": 42,
     "metadata": {},
     "output_type": "execute_result"
    }
   ],
   "source": [
    "transposeM = M.T\n",
    "transposeM"
   ]
  },
  {
   "cell_type": "code",
   "execution_count": 38,
   "metadata": {
    "collapsed": false
   },
   "outputs": [
    {
     "name": "stdout",
     "output_type": "stream",
     "text": [
      "Which square matrix do you want?4\n",
      "Minium numbers-100\n",
      "Maxium numbers100\n"
     ]
    },
    {
     "data": {
      "text/latex": [
       "$$\\left[\\begin{matrix}79 & -82 & 46 & -90\\\\-61 & 11 & -82 & 74\\\\62 & 62 & 2 & -98\\\\-70 & 42 & -91 & 62\\end{matrix}\\right]$$"
      ],
      "text/plain": [
       "⎡79   -82  46   -90⎤\n",
       "⎢                  ⎥\n",
       "⎢-61  11   -82  74 ⎥\n",
       "⎢                  ⎥\n",
       "⎢62   62    2   -98⎥\n",
       "⎢                  ⎥\n",
       "⎣-70  42   -91  62 ⎦"
      ]
     },
     "execution_count": 38,
     "metadata": {},
     "output_type": "execute_result"
    }
   ],
   "source": [
    "I = int(input(\"Which square matrix do you want?\"))\n",
    "J = float(input(\"Minium numbers\"))\n",
    "K = float(input(\"Maxium numbers\"))\n",
    "L = randMatrix(I, I, J, K)\n",
    "L"
   ]
  },
  {
   "cell_type": "code",
   "execution_count": 40,
   "metadata": {
    "collapsed": false
   },
   "outputs": [
    {
     "data": {
      "image/png": "[encoded data removed]",
      "text/latex": [
       "$$154$$"
      ],
      "text/plain": [
       "154"
      ]
     },
     "execution_count": 40,
     "metadata": {},
     "output_type": "execute_result"
    }
   ],
   "source": [
    "traceL = L.trace()\n",
    "traceL"
   ]
  },
  {
   "cell_type": "code",
   "execution_count": null,
   "metadata": {
    "collapsed": true
   },
   "outputs": [],
   "source": []
  }
 ],
 "metadata": {
  "kernelspec": {
   "display_name": "Python 3",
   "language": "python",
   "name": "python3"
  },
  "language_info": {
   "codemirror_mode": {
    "name": "ipython",
    "version": 3
   },
   "file_extension": ".py",
   "mimetype": "text/x-python",
   "name": "python",
   "nbconvert_exporter": "python",
   "pygments_lexer": "ipython3",
   "version": "3.6.0"
  }
 },
 "nbformat": 4,
 "nbformat_minor": 2
}
