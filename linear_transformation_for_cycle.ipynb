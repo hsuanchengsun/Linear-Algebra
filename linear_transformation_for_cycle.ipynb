{
 "cells": [
  {
   "cell_type": "code",
   "execution_count": 4,
   "metadata": {
    "collapsed": false
   },
   "outputs": [
    {
     "data": {
      "image/png": "[encoded data removed]",
      "text/plain": [
       "<matplotlib.figure.Figure at 0x10eb253c8>"
      ]
     },
     "metadata": {},
     "output_type": "display_data"
    }
   ],
   "source": [
    "import random\n",
    "import math\n",
    "import matplotlib.pyplot as plt\n",
    "import numpy as np\n",
    "\n",
    "def circle_trans():\n",
    "    x = []\n",
    "    y = []\n",
    "    for i in range(0,1000):#取1000個單位圓上的點\n",
    "        angle = random.uniform(0,1)*(math.pi*2)\n",
    "        x.append(math.cos(angle))\n",
    "        y.append(math.sin(angle))\n",
    "    x1 = np.array(x)#把x的內容變成array形式\n",
    "    y1 = np.array(y)#把y的內容變成array形式\n",
    "    xy = np.stack((x1, y1), axis = -1)#把xy座標換成一個array\n",
    "    M = np.array([[3,0],[0,2]])#想要線性變換的矩陣內容\n",
    "\n",
    "    plt.scatter(xy[:,0], xy[:,1])#畫出原本的圓\n",
    "    newxy = transform(xy, M)#線性轉換\n",
    "    plt.scatter(newxy[:,0], newxy[:,1])#畫出新的線性轉換圖\n",
    "    plt.show()\n",
    "circle_trans()"
   ]
  },
  {
   "cell_type": "code",
   "execution_count": 3,
   "metadata": {
    "collapsed": true
   },
   "outputs": [],
   "source": [
    "def transform(points, M):#線性轉換用公式\n",
    "    newp = []\n",
    "    for (x,y) in points:\n",
    "        newp.append(np.dot(M, (x,y)))\n",
    "    return np.array(newp)"
   ]
  },
  {
   "cell_type": "code",
   "execution_count": null,
   "metadata": {
    "collapsed": true
   },
   "outputs": [],
   "source": []
  }
 ],
 "metadata": {
  "kernelspec": {
   "display_name": "Python 3",
   "language": "python",
   "name": "python3"
  },
  "language_info": {
   "codemirror_mode": {
    "name": "ipython",
    "version": 3
   },
   "file_extension": ".py",
   "mimetype": "text/x-python",
   "name": "python",
   "nbconvert_exporter": "python",
   "pygments_lexer": "ipython3",
   "version": "3.6.0"
  }
 },
 "nbformat": 4,
 "nbformat_minor": 2
}
